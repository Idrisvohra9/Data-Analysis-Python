{
 "cells": [
  {
   "cell_type": "code",
   "execution_count": 1,
   "id": "c8fc37ff",
   "metadata": {},
   "outputs": [
    {
     "name": "stdout",
     "output_type": "stream",
     "text": [
      "0    5\n",
      "1    5\n",
      "2    5\n",
      "3    5\n",
      "dtype: int64\n"
     ]
    }
   ],
   "source": [
    "import pandas as pd\n",
    "\n",
    "# A Pandas Series is like a column in a table.\n",
    "\n",
    "# It is a one-dimensional array holding data of any type.\n",
    "\n",
    "# Create series from scalar:\n",
    "# If data is a scalar value, an index must be provided. The value\n",
    "# will be repeated to match the length of index.\n",
    "\n",
    "\n",
    "s = pd.Series(5, index=[0, 1, 2, 3])\n",
    "print(s)\n",
    "\n",
    "# Series Methods:\n",
    "\n",
    "# add()\n",
    "ser1 = pd.Series"
   ]
  }
 ],
 "metadata": {
  "kernelspec": {
   "display_name": "Python 3 (ipykernel)",
   "language": "python",
   "name": "python3"
  },
  "language_info": {
   "codemirror_mode": {
    "name": "ipython",
    "version": 3
   },
   "file_extension": ".py",
   "mimetype": "text/x-python",
   "name": "python",
   "nbconvert_exporter": "python",
   "pygments_lexer": "ipython3",
   "version": "3.9.13"
  }
 },
 "nbformat": 4,
 "nbformat_minor": 5
}
