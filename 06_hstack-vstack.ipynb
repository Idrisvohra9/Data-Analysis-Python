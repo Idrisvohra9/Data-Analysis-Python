{
 "cells": [
  {
   "cell_type": "code",
   "execution_count": 6,
   "id": "1f4b6913",
   "metadata": {},
   "outputs": [
    {
     "name": "stdout",
     "output_type": "stream",
     "text": [
      "Array 1:\n",
      " [ 2  3  4  5  6  7  8  9 10 11]\n",
      "\n",
      "Array 2:\n",
      " [  1   4   9  16  25  36  49  64  81 100]\n",
      "\n",
      "Stacking using hstack:\n",
      "[  2   3   4   5   6   7   8   9  10  11   1   4   9  16  25  36  49  64\n",
      "  81 100]\n",
      "\n",
      "Stacking using vstack:\n",
      "[[  2   3   4   5   6   7   8   9  10  11]\n",
      " [  1   4   9  16  25  36  49  64  81 100]]\n",
      "\n"
     ]
    }
   ],
   "source": [
    "import numpy as np\n",
    "\n",
    "# Stacking is same as concatenation, the only difference is that stacking is done along a new axis.\n",
    "\n",
    "# NumPy provides a helper function: hstack() to stack along rows, vstack()  to stack along columns..\n",
    "\n",
    "# Syntax is the same .h/vstack((arr1, arr2))\n",
    "\n",
    "# Initalizing both arrays:\n",
    "iter1 = [ x + 1 for x in range(1,11)]\n",
    "a1 = np.array(iter1)\n",
    "print(\"Array 1:\\n\",a1)\n",
    "print()\n",
    "\n",
    "iter2 = [ x * x for x in range(1,11)]\n",
    "a2 = np.array(iter2)\n",
    "print(\"Array 2:\\n\", a2)\n",
    "print()\n",
    "\n",
    "# hstack in action:\n",
    "print(\"Stacking using hstack:\")\n",
    "print(np.hstack((a1,a2)))\n",
    "print()\n",
    "\n",
    "# Stacking using hstack:\n",
    "# [  2   3   4   5   6   7   8   9  10  11   1   4   9  16  25  36  49  64\n",
    "#   81 100]\n",
    "# So, it just concatenates both arrays simple.\n",
    "\n",
    "\n",
    "# vstack in action:\n",
    "print(\"Stacking using vstack:\")\n",
    "print(np.vstack((a1,a2)))\n",
    "print()\n",
    "\n",
    "# Stacking using vstack:\n",
    "# [[  2   3   4   5   6   7   8   9  10  11]\n",
    "#  [  1   4   9  16  25  36  49  64  81 100]]\n",
    "# So, it appends both the arrays in an empty array and creates a 2d array as a result."
   ]
  },
  {
   "cell_type": "code",
   "execution_count": null,
   "id": "71801d0f",
   "metadata": {},
   "outputs": [],
   "source": []
  }
 ],
 "metadata": {
  "kernelspec": {
   "display_name": "Python 3 (ipykernel)",
   "language": "python",
   "name": "python3"
  },
  "language_info": {
   "codemirror_mode": {
    "name": "ipython",
    "version": 3
   },
   "file_extension": ".py",
   "mimetype": "text/x-python",
   "name": "python",
   "nbconvert_exporter": "python",
   "pygments_lexer": "ipython3",
   "version": "3.9.13"
  }
 },
 "nbformat": 4,
 "nbformat_minor": 5
}
