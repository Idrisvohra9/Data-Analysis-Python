{
 "cells": [
  {
   "cell_type": "code",
   "execution_count": 10,
   "id": "8f313430",
   "metadata": {
    "slideshow": {
     "slide_type": "-"
    }
   },
   "outputs": [
    {
     "name": "stdout",
     "output_type": "stream",
     "text": [
      "arr: \n",
      " [[10 20]\n",
      " [30 40]\n",
      " [50 60]\n",
      " [10 20]]\n",
      "int32\n",
      "arr2: \n",
      " [[ 20  30]\n",
      " [ 60  90]\n",
      " [100  50]\n",
      " [ 30  10]]\n",
      "Adding arr and arr2:\n",
      "[[ 30  50]\n",
      " [ 90 130]\n",
      " [150 110]\n",
      " [ 40  30]]\n",
      "[('age', 'i1')]\n",
      "<class 'numpy.ndarray'>\n",
      "[(10,) (20,) (30,)]\n",
      "[(b'abc', 21, 50.) (b'xyz', 18, 75.)]\n"
     ]
    }
   ],
   "source": [
    "import numpy as np\n",
    "\n",
    "\n",
    "\n",
    "# ndarray: Nth dimensional array which is basically a numpy array.\n",
    "# There are multiple reasons we use numpy array instead of python list some of them are:\n",
    "# 1. More datatypes availabilty, \n",
    "# 2. Simple arithmatic operations can be performed easily between two ndarrays or within the ndarray itself with inbuilt numpy functions\n",
    "# 3. NumPy aims to provide an array object that is up to 50x faster than traditional Python lists.\n",
    "# 4. Many logical operations can be performed on ndarray without using functions such as filter \n",
    "arr = np.array([[10, 20], [30, 40], [50, 60], [10, 20]])# This creates an ndarray using any iterable of python with .array() function of numpy\n",
    "arr2 = np.array([[20, 30], [60, 90], [100, 50], [30, 10]])\n",
    "# Performing mathematical operations on an NDArray returns their elements with the math operations performed.\n",
    "# On the other hand if we perform addition on two python list it concatenates them.\n",
    "\n",
    "# numpy has an extended list of data types that go beyond python's data types and it is an optional parameter when creating\n",
    "# an ndarray if not specified it will automatically sense the datatype.\n",
    "print(\"arr: \\n\", arr)\n",
    "print(arr.dtype) # dtype - int32\n",
    "print(\"arr2: \\n\", arr2)\n",
    "print(\"Adding arr and arr2:\")\n",
    "print(arr+arr2)\n",
    "\n",
    "s = b\"Hello\"\n",
    "\n",
    "# .dtype() function is used to specify the datatype of the elements ndarray will have\n",
    "\n",
    "dt = np.dtype([('age', np.int8)]) # We can also create a custom dtype for our ndarray\n",
    "a = np.array([(10,), (20,), (30,)], dtype=dt)\n",
    "print(a.dtype)# [('age', 'i1')]\n",
    "\n",
    "print(type(a)) # Will return <class 'numpy.ndarray'>\n",
    "print(np.array2string(a))\n",
    "\n",
    "student=np.dtype([('name','S20'), ('age', 'i1'),('marks','f4')])\n",
    "a = np.array([('abc', 21, 50),('xyz', 18, 75)], dtype=student)\n",
    "print(a)"
   ]
  }
 ],
 "metadata": {
  "celltoolbar": "Raw Cell Format",
  "kernelspec": {
   "display_name": "Python 3 (ipykernel)",
   "language": "python",
   "name": "python3"
  },
  "language_info": {
   "codemirror_mode": {
    "name": "ipython",
    "version": 3
   },
   "file_extension": ".py",
   "mimetype": "text/x-python",
   "name": "python",
   "nbconvert_exporter": "python",
   "pygments_lexer": "ipython3",
   "version": "3.9.13"
  }
 },
 "nbformat": 4,
 "nbformat_minor": 5
}
