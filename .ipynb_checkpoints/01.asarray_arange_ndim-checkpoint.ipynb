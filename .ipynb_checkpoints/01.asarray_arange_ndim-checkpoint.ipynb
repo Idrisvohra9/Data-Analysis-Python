{
 "cells": [
  {
   "cell_type": "code",
   "execution_count": 6,
   "id": "51dd0a5d",
   "metadata": {
    "scrolled": true
   },
   "outputs": [
    {
     "name": "stdout",
     "output_type": "stream",
     "text": [
      "[12, 13, 14]\n",
      "[12 13 14]\n",
      "[12 13 14]\n",
      "[ 1  2  3  4  5  6  7  8  9 10 11 12 13 14 15 16 17 18 19 20 21 22 23 24\n",
      " 25 26 27 28 29 30 31 32 33 34 35 36 37 38 39 40 41 42 43 44 45 46 47 48\n",
      " 49 50 51 52 53 54 55 56 57 58 59 60 61 62 63 64 65 66 67 68 69 70 71 72\n",
      " 73 74 75 76 77 78 79 80 81 82 83 84 85 86 87 88 89 90 91 92 93 94 95 96\n",
      " 97 98 99]\n",
      "0\n",
      "[[[[[1 3 5 6]]]]]\n"
     ]
    }
   ],
   "source": [
    "import numpy as np\n",
    "\n",
    "x = [12,13,14]\n",
    "# The difference between python list and a numpy array can be seen from the output\n",
    "print(x)\n",
    "print(np.array(x))\n",
    "\n",
    "print(np.asarray(x))# np.asarray() does the same as the np.array() function\n",
    "print(np.arange(1,100))# np.arange() does the same as buil-in range() function of python but instead of returning a list it returns a ndarray \n",
    "\n",
    "# There are multidimensional arrays that can be created with numpy\n",
    "a0 = np.array(20)# this is a 0 dimensional array.\n",
    "\n",
    "print(a0.ndim)# this can be returned with .ndim property\n",
    "\n",
    "a1 = np.array([1,2,3]) # 1d array\n",
    "\n",
    "a2 = np.array([[1],[2],[3]]) # 2d array\n",
    "\n",
    "a3 = np.array([[[1],[2],[3]]]) # 3d array\n",
    "\n",
    "# We can also make it easier to create the nested array as follows:\n",
    "\n",
    "a = np.array([1,3,5,6], ndmin= 5)# by specifying the minimum dimensions for the array\n",
    "\n",
    "print(a)"
   ]
  }
 ],
 "metadata": {
  "kernelspec": {
   "display_name": "Python 3 (ipykernel)",
   "language": "python",
   "name": "python3"
  },
  "language_info": {
   "codemirror_mode": {
    "name": "ipython",
    "version": 3
   },
   "file_extension": ".py",
   "mimetype": "text/x-python",
   "name": "python",
   "nbconvert_exporter": "python",
   "pygments_lexer": "ipython3",
   "version": "3.9.13"
  }
 },
 "nbformat": 4,
 "nbformat_minor": 5
}
