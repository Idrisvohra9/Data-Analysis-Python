{
 "cells": [
  {
   "cell_type": "code",
   "execution_count": 12,
   "id": "f9b51c09",
   "metadata": {},
   "outputs": [
    {
     "name": "stdout",
     "output_type": "stream",
     "text": [
      "[[1. 1. 1.]\n",
      " [1. 1. 1.]\n",
      " [1. 1. 1.]]\n",
      "[[-6. -6. -6.]\n",
      " [-6. -6. -6.]\n",
      " [-6. -6. -6.]]\n",
      "\n",
      "[[['1' '1' '1']\n",
      "  ['1' '1' '1']]]\n",
      "\n",
      "[[('', 0) ('', 0) ('', 0) ('', 0) ('', 0)]\n",
      " [('', 0) ('', 0) ('', 0) ('', 0) ('', 0)]\n",
      " [('', 0) ('', 0) ('', 0) ('', 0) ('', 0)]\n",
      " [('', 0) ('', 0) ('', 0) ('', 0) ('', 0)]]\n"
     ]
    }
   ],
   "source": [
    "import numpy as np\n",
    "\n",
    "# .ones() and .zeros() are functions that behave the same and their task is to initialize arrays with a single value\n",
    "# based on a shape passed in the first argument. the .ones() function fills the ndarray with 1s. and .zeros() fill it with\n",
    "# 0s.\n",
    "\n",
    "# Syntax: np.ones(shape, dtype= None, order= 'C')\n",
    "\n",
    "a = np.ones((3,3), float, \"C\")\n",
    "\n",
    "print(a)\n",
    "\n",
    "print(a - 7)\n",
    "print()\n",
    "a = np.ones((1,2,3), str, \"F\")\n",
    "\n",
    "print(a)\n",
    "print()\n",
    "\n",
    "a = np.zeros((4,5), [(\"Something\", str),(\"Other Thing\", int)], \"C\")\n",
    "\n",
    "print(a)"
   ]
  }
 ],
 "metadata": {
  "kernelspec": {
   "display_name": "Python 3 (ipykernel)",
   "language": "python",
   "name": "python3"
  },
  "language_info": {
   "codemirror_mode": {
    "name": "ipython",
    "version": 3
   },
   "file_extension": ".py",
   "mimetype": "text/x-python",
   "name": "python",
   "nbconvert_exporter": "python",
   "pygments_lexer": "ipython3",
   "version": "3.9.13"
  }
 },
 "nbformat": 4,
 "nbformat_minor": 5
}
