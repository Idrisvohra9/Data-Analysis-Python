{
 "cells": [
  {
   "cell_type": "code",
   "execution_count": null,
   "id": "a2f303c2",
   "metadata": {},
   "outputs": [],
   "source": [
    "import numpy as np\n",
    "\n",
    "\n",
    "# fromiter():\n",
    "# Create a new 1-dimensional array from an iterable object\n",
    "# We can create an ndarray from an iterable using .fromiter() function.\n",
    "# Syntax of .fromiter():\n",
    "# numpy.fromiter(iter, dtype, count=-1, *, like=None)\n",
    "\n",
    "i2a = np.fromiter([10,20,30], int) \n",
    "print(\"Array from list:\\n \",i2a)\n",
    "\n",
    "iterable = [x*x for x in range(10)] \n",
    "i2a = np.fromiter(iterable, int) \n",
    "print(\"Array from list comprehension:\\n\",i2a) \n",
    "print()\n",
    "\n",
    "# So, logically speaking np.array(), np.asarray(), np.fromiter() does exactly the same thing.\n",
    "\n",
    "\n",
    "# frombuffer():\n",
    "# Interpret a buffer as a 1-dimensional array.\n",
    "# In computer science, a data buffer (or just buffer) is a region of a memory used to temporarily store data while\n",
    "# it is being moved from one place to another.\n",
    "# Syntax: numpy.frombuffer(buffer, dtype=float, count=-1, offset=0, *, like=None)\n",
    "\n",
    "b = b'Hello Idubhaii!.' \n",
    "print(\"Buffer String:\\n\", b)\n",
    "\n",
    "print(len(b))\n",
    "b2a = np.frombuffer(b, dtype=\"S2\")# By not specifying the dtype it throws an error as it cannot be splitted\n",
    "# into single character\n",
    "# and in order for it to be made an array it needs to be splitted. So, we have to specify the dtype as 'S1'\n",
    "# (Single Character space.)\n",
    "\n",
    "# Note: In above we can use 'S1' and 'S2' as dtype as the length of the buffer string or bytestring is even it can be splitted\n",
    "# in two characters evenly.\n",
    "print(\"Array from buffer:\\n\",b2a)"
   ]
  },
  {
   "cell_type": "code",
   "execution_count": 5,
   "id": "b75ba464",
   "metadata": {},
   "outputs": [
    {
     "name": "stdout",
     "output_type": "stream",
     "text": [
      "Array from list:\n",
      "  [10 20 30]\n",
      "Array from list comprehension:\n",
      " [ 0  1  4  9 16 25 36 49 64 81]\n",
      "\n",
      "Buffer String:\n",
      " b'Hello Idubhaii!.'\n",
      "16\n",
      "Array from buffer:\n",
      " [b'He' b'll' b'o ' b'Id' b'ub' b'ha' b'ii' b'!.']\n"
     ]
    }
   ],
   "source": []
  }
 ],
 "metadata": {
  "kernelspec": {
   "display_name": "Python 3 (ipykernel)",
   "language": "python",
   "name": "python3"
  },
  "language_info": {
   "codemirror_mode": {
    "name": "ipython",
    "version": 3
   },
   "file_extension": ".py",
   "mimetype": "text/x-python",
   "name": "python",
   "nbconvert_exporter": "python",
   "pygments_lexer": "ipython3",
   "version": "3.9.13"
  }
 },
 "nbformat": 4,
 "nbformat_minor": 5
}
