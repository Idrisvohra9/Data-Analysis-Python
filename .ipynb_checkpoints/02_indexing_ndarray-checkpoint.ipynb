{
 "cells": [
  {
   "cell_type": "code",
   "execution_count": 10,
   "id": "677355a4",
   "metadata": {},
   "outputs": [
    {
     "name": "stdout",
     "output_type": "stream",
     "text": [
      "10\n",
      "40\n",
      "40\n",
      "[40 30 20 10]\n",
      "90\n",
      "20\n"
     ]
    }
   ],
   "source": [
    "import numpy as np\n",
    "\n",
    "a = np.array([10,20,30,40])\n",
    "\n",
    "# Get the first element from an ndarray\n",
    "print(a[0])\n",
    "# Output:\n",
    "# 10\n",
    "\n",
    "# Get the last element from ndarray\n",
    "# WIth Negative indexing:\n",
    "print(a[-1])\n",
    "# Output:\n",
    "# 40\n",
    "\n",
    "# With len():\n",
    "print(a[len(a)-1])\n",
    "# Output:\n",
    "# 40\n",
    "\n",
    "\n",
    "# Reverse the ndarray:\n",
    "print(a[::-1])\n",
    "# Output:\n",
    "# [40 30 20 10]\n",
    "\n",
    "# Access the elements of 2d array and 3d array\n",
    "\n",
    "a2 = np.array([[30,60],[90,120]])\n",
    "print(a2[1,0])\n",
    "# Output:\n",
    "# 90\n",
    "\n",
    "\n",
    "a3 = np.array([[[20,40,80],[10,20,30]]])\n",
    "\n",
    "print(a3[0,1,1])\n",
    "# Output:\n",
    "# 20"
   ]
  }
 ],
 "metadata": {
  "kernelspec": {
   "display_name": "Python 3 (ipykernel)",
   "language": "python",
   "name": "python3"
  },
  "language_info": {
   "codemirror_mode": {
    "name": "ipython",
    "version": 3
   },
   "file_extension": ".py",
   "mimetype": "text/x-python",
   "name": "python",
   "nbconvert_exporter": "python",
   "pygments_lexer": "ipython3",
   "version": "3.9.13"
  }
 },
 "nbformat": 4,
 "nbformat_minor": 5
}
